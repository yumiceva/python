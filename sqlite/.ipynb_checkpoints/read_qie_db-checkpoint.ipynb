{
 "cells": [
  {
   "cell_type": "code",
   "execution_count": 5,
   "metadata": {
    "collapsed": false
   },
   "outputs": [
    {
     "data": {
      "text/plain": [
       "u'/Users/yumiceva/Documents/work/fit/python/sqlite'"
      ]
     },
     "execution_count": 5,
     "metadata": {},
     "output_type": "execute_result"
    }
   ],
   "source": [
    "%pwd"
   ]
  },
  {
   "cell_type": "code",
   "execution_count": 6,
   "metadata": {
    "collapsed": true
   },
   "outputs": [],
   "source": [
    "import sqlite3 as lite\n",
    "import pandas as pd\n",
    "\n",
    "con = lite.connect('qieCalibrationParameters_0x04000000_0xeacd8870.db')"
   ]
  },
  {
   "cell_type": "code",
   "execution_count": 7,
   "metadata": {
    "collapsed": false
   },
   "outputs": [
    {
     "name": "stdout",
     "output_type": "stream",
     "text": [
      "SQLite version: 3.17.0\n",
      "[(u'qieparams',), (u'qieshuntparams',), (u'qietdcparams',)]\n"
     ]
    }
   ],
   "source": [
    "qieID = 2\n",
    "shunt = 2\n",
    "capID = 0\n",
    "range = 0\n",
    "\n",
    "# print sqlite version and check connection\n",
    "with con:\n",
    "    \n",
    "    cur = con.cursor()    \n",
    "    cur.execute('SELECT SQLITE_VERSION()')\n",
    "    \n",
    "    data = cur.fetchone()\n",
    "    \n",
    "    print \"SQLite version: %s\" % data  \n",
    "\n",
    "# print tables\n",
    "cursor = con.cursor()\n",
    "cursor.execute(\"SELECT name FROM sqlite_master WHERE type='table';\")\n",
    "print(cursor.fetchall())\n"
   ]
  },
  {
   "cell_type": "code",
   "execution_count": 8,
   "metadata": {
    "collapsed": false
   },
   "outputs": [
    {
     "name": "stdout",
     "output_type": "stream",
     "text": [
      "0.158251744089\n"
     ]
    }
   ],
   "source": [
    "with con:    \n",
    "    \n",
    "    cur = con.cursor()    \n",
    "    cur.execute(\"SELECT * FROM qieshuntparams\")\n",
    "\n",
    "    rows = cur.fetchall()\n",
    "\n",
    "    for row in rows:\n",
    "        \n",
    "        #print row\n",
    "        if qieID == row[2] and capID == row[3] and range == row[4] and shunt == row[5]:\n",
    "            print row[8]"
   ]
  }
 ],
 "metadata": {
  "kernelspec": {
   "display_name": "Python 2",
   "language": "python",
   "name": "python2"
  },
  "language_info": {
   "codemirror_mode": {
    "name": "ipython",
    "version": 2
   },
   "file_extension": ".py",
   "mimetype": "text/x-python",
   "name": "python",
   "nbconvert_exporter": "python",
   "pygments_lexer": "ipython2",
   "version": "2.7.13"
  }
 },
 "nbformat": 4,
 "nbformat_minor": 1
}
